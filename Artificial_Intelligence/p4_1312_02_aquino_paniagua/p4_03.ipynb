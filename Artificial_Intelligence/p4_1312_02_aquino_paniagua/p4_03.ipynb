{
 "cells": [
  {
   "cell_type": "markdown",
   "metadata": {},
   "source": [
    "## 4. Predicción de fugas de clientes en una compañía telefónica (3.5 puntos)"
   ]
  },
  {
   "cell_type": "markdown",
   "metadata": {},
   "source": [
    "Una compañía telefónica está interesada en que desarrollemos un modelo que prediga los **100 clientes actuales** (dataset de explotación) que tienen más probabilidad de abandonar la compañía. Para ello nos proporcionan una base de datos **fuga_clientes_empresa_telefonica_construccion.csv** (en carpeta data/) con casos etiquetados, que usaremos para construir nuestro modelo de predicción.\n",
    "\n",
    "Los campos de esta base de datos son:\n",
    "\n",
    "* **Customer ID**\n",
    "\n",
    "* **network_age**: antigüedad del cliente en días\n",
    "\n",
    "* **Customer tenure in months:** antigüedad del cliente en meses\n",
    "\n",
    "* **Total Spend in Months 1 and 2:** gasto total del cliente en los meses de referencia 1 y 2\n",
    "\n",
    "* **Total SMS Spend:** gasto total en SMS\n",
    "\n",
    "* **Total Data Spend:** gasto total en datos/internet\n",
    "\n",
    "* **Total Data Consumption:** consumo total de datos (en KB) durante el período de estudio\n",
    "\n",
    "* **Total Unique Calls:** número total de llamadas únicas\n",
    "\n",
    "* **Total Onnet spend:** gasto total en llamadas a otros usuarios de la misma red de telefonía\n",
    "\n",
    "* **Total Offnet spend:** gasto total en llamadas a otros usuarios de redes de telefonía diferentes\n",
    "\n",
    "* **Total Call centre complaint calls:** número de llamadas de queja al call center\n",
    "\n",
    "* **Network type subscription in Month 1:** suscripción de tipo de red en el mes 1. Esto indica la suscripción de red preferida de un cliente, lo que puede indicar su tipo de dispositivo: servicio 2G o 3G\n",
    "\n",
    "* **Network type subscription in Month 2:** igual que el anterior pero en el mes posterior\n",
    "\n",
    "* **Churn Status**: el valor es 1 si el cliente abandona la compañía telefónica, 0 si permanece en ella\n",
    "\n",
    "* **Most Loved Competitor network in Month 1:** qué otro proveedor de la competencia prefiere el cliente en el mes 1. En realidad es un conjunto de columnas, cada una enfocada en un proveedor particular\n",
    "\n",
    "* **Most Loved Competitor network in Month 2:** qué otro proveedor de la competencia prefiere el cliente en el mes 2. En realidad es un conjunto de columnas, cada una enfocada en un proveedor particular\n",
    "\n",
    "La variable a predecir es **Churn Status**: el valor es 1 si el cliente **abandona** la compañía, 0 si no la abandona.\n",
    "\n",
    "La compañía también nos proporciona otra base de datos, **fuga_clientes_empresa_telefonica_explotacion.csv**, con información sobre clientes de los que no se sabe ahora mismo si van a permanecer o no en la compañía. Por tanto en esta segunda base de datos todos los valores de la columna **Churn Status** son missing values (NaN).\n",
    "\n",
    "La compañía nos pide que proporcionemos los IDs de los 100 clientes de la base de datos de explotación que con mayor probabilidad vayan a abandonar la compañía. Para ello proporcionaremos como entregable a la compañía un archivo csv con una sola columna, **Customer ID**, y 100 filas que contengan los IDs de los clientes seleccionados.\n",
    "\n",
    "El fichero **ejemplo_fichero_predicciones.csv** contiene un ejemplo con el formato solicitado para este archivo."
   ]
  },
  {
   "cell_type": "code",
   "execution_count": 1,
   "metadata": {},
   "outputs": [],
   "source": [
    "import pandas as pd"
   ]
  },
  {
   "cell_type": "code",
   "execution_count": 2,
   "metadata": {},
   "outputs": [],
   "source": [
    "datos_construccion = pd.read_csv(\"./data/fuga_clientes_empresa_telefonica_construccion.csv\")\n",
    "datos_explotacion  = pd.read_csv(\"./data/fuga_clientes_empresa_telefonica_explotacion.csv\")"
   ]
  },
  {
   "cell_type": "code",
   "execution_count": 3,
   "metadata": {},
   "outputs": [
    {
     "data": {
      "text/plain": [
       "Index(['Customer ID', 'network_age', 'Customer tenure in month',\n",
       "       'Total Spend in Months 1 and 2', 'Total SMS Spend', 'Total Data Spend',\n",
       "       'Total Data Consumption', 'Total Unique Calls', 'Total Onnet spend',\n",
       "       'Total Offnet spend', 'Total Call centre complaint calls',\n",
       "       'Churn Status', 'Most Loved Competitor network in Month 1_0',\n",
       "       'Most Loved Competitor network in Month 1_Mango',\n",
       "       'Most Loved Competitor network in Month 1_PQza',\n",
       "       'Most Loved Competitor network in Month 1_ToCall',\n",
       "       'Most Loved Competitor network in Month 1_Uxaa',\n",
       "       'Most Loved Competitor network in Month 1_Weematel',\n",
       "       'Most Loved Competitor network in Month 1_Zintel',\n",
       "       'Most Loved Competitor network in Month 2_Mango',\n",
       "       'Most Loved Competitor network in Month 2_PQza',\n",
       "       'Most Loved Competitor network in Month 2_ToCall',\n",
       "       'Most Loved Competitor network in Month 2_Uxaa',\n",
       "       'Most Loved Competitor network in Month 2_Weematel',\n",
       "       'Most Loved Competitor network in Month 2_Zintel'],\n",
       "      dtype='object')"
      ]
     },
     "execution_count": 3,
     "metadata": {},
     "output_type": "execute_result"
    }
   ],
   "source": [
    "datos_construccion.columns"
   ]
  },
  {
   "cell_type": "code",
   "execution_count": 4,
   "metadata": {},
   "outputs": [
    {
     "data": {
      "text/plain": [
       "Index(['Customer ID', 'network_age', 'Customer tenure in month',\n",
       "       'Total Spend in Months 1 and 2', 'Total SMS Spend', 'Total Data Spend',\n",
       "       'Total Data Consumption', 'Total Unique Calls', 'Total Onnet spend',\n",
       "       'Total Offnet spend', 'Total Call centre complaint calls',\n",
       "       'Churn Status', 'Most Loved Competitor network in Month 1_0',\n",
       "       'Most Loved Competitor network in Month 1_Mango',\n",
       "       'Most Loved Competitor network in Month 1_PQza',\n",
       "       'Most Loved Competitor network in Month 1_ToCall',\n",
       "       'Most Loved Competitor network in Month 1_Uxaa',\n",
       "       'Most Loved Competitor network in Month 1_Weematel',\n",
       "       'Most Loved Competitor network in Month 1_Zintel',\n",
       "       'Most Loved Competitor network in Month 2_Mango',\n",
       "       'Most Loved Competitor network in Month 2_PQza',\n",
       "       'Most Loved Competitor network in Month 2_ToCall',\n",
       "       'Most Loved Competitor network in Month 2_Uxaa',\n",
       "       'Most Loved Competitor network in Month 2_Weematel',\n",
       "       'Most Loved Competitor network in Month 2_Zintel'],\n",
       "      dtype='object')"
      ]
     },
     "execution_count": 4,
     "metadata": {},
     "output_type": "execute_result"
    }
   ],
   "source": [
    "datos_explotacion.columns"
   ]
  },
  {
   "cell_type": "code",
   "execution_count": 5,
   "metadata": {},
   "outputs": [
    {
     "data": {
      "text/plain": [
       "0"
      ]
     },
     "execution_count": 5,
     "metadata": {},
     "output_type": "execute_result"
    }
   ],
   "source": [
    "# chequeo de que las columnas son exactamente las mismas en los dos ficheros:\n",
    "sum(datos_construccion.columns != datos_explotacion.columns)"
   ]
  },
  {
   "cell_type": "code",
   "execution_count": 6,
   "metadata": {},
   "outputs": [
    {
     "data": {
      "text/plain": [
       "array([0, 0, 0, 0, 0, 0, 0, 1, 1, 1])"
      ]
     },
     "execution_count": 6,
     "metadata": {},
     "output_type": "execute_result"
    }
   ],
   "source": [
    "# la columna a predecir es \"Churn Status\"\n",
    "# si es 1, el cliente se va de la compañía\n",
    "# si es 0, el cliente se queda\n",
    "\n",
    "# Esta columna se sabe en el dataset de construcción (ejemplos de clientes pasados):\n",
    "datos_construccion[\"Churn Status\"].values[:10]"
   ]
  },
  {
   "cell_type": "code",
   "execution_count": 7,
   "metadata": {},
   "outputs": [
    {
     "data": {
      "text/plain": [
       "array([nan, nan, nan, nan, nan, nan, nan, nan, nan, nan])"
      ]
     },
     "execution_count": 7,
     "metadata": {},
     "output_type": "execute_result"
    }
   ],
   "source": [
    "# Sin embargo no se sabe en el dataset de explotación (clientes actuales):\n",
    "datos_explotacion[\"Churn Status\"].values[:10]"
   ]
  },
  {
   "cell_type": "code",
   "execution_count": 8,
   "metadata": {},
   "outputs": [
    {
     "name": "stdout",
     "output_type": "stream",
     "text": [
      "  Customer ID  network_age  Customer tenure in month  \\\n",
      "0     ADF0039          123                      4.10   \n",
      "1     ADF0041         1316                     43.87   \n",
      "2     ADF0051         2385                     79.50   \n",
      "3     ADF0059         1614                     53.80   \n",
      "4     ADF0060         2175                     72.50   \n",
      "\n",
      "   Total Spend in Months 1 and 2  Total SMS Spend  Total Data Spend  \\\n",
      "0                        76.7140             0.00              1.25   \n",
      "1                        98.8904             4.14              1.25   \n",
      "2                       372.6300             3.51              1.25   \n",
      "3                       530.2000             6.85              1.25   \n",
      "4                       554.1300             6.99            153.75   \n",
      "\n",
      "   Total Data Consumption  Total Unique Calls  Total Onnet spend  \\\n",
      "0                  1.4951                  14                564   \n",
      "1                  1.0244                  27               1626   \n",
      "2                  6.0898                 119              10411   \n",
      "3                  3.3447                  69               6822   \n",
      "4             673204.0342                  33               3387   \n",
      "\n",
      "   Total Offnet spend  ...  Most Loved Competitor network in Month 1_ToCall  \\\n",
      "0                6408  ...                                                0   \n",
      "1                4373  ...                                                0   \n",
      "2               22039  ...                                                0   \n",
      "3                6274  ...                                                0   \n",
      "4                7241  ...                                                0   \n",
      "\n",
      "   Most Loved Competitor network in Month 1_Uxaa  \\\n",
      "0                                              1   \n",
      "1                                              1   \n",
      "2                                              0   \n",
      "3                                              0   \n",
      "4                                              0   \n",
      "\n",
      "   Most Loved Competitor network in Month 1_Weematel  \\\n",
      "0                                                  0   \n",
      "1                                                  0   \n",
      "2                                                  1   \n",
      "3                                                  0   \n",
      "4                                                  1   \n",
      "\n",
      "   Most Loved Competitor network in Month 1_Zintel  \\\n",
      "0                                                0   \n",
      "1                                                0   \n",
      "2                                                0   \n",
      "3                                                0   \n",
      "4                                                0   \n",
      "\n",
      "   Most Loved Competitor network in Month 2_Mango  \\\n",
      "0                                               1   \n",
      "1                                               1   \n",
      "2                                               1   \n",
      "3                                               1   \n",
      "4                                               1   \n",
      "\n",
      "   Most Loved Competitor network in Month 2_PQza  \\\n",
      "0                                              0   \n",
      "1                                              0   \n",
      "2                                              0   \n",
      "3                                              0   \n",
      "4                                              0   \n",
      "\n",
      "   Most Loved Competitor network in Month 2_ToCall  \\\n",
      "0                                                0   \n",
      "1                                                0   \n",
      "2                                                0   \n",
      "3                                                0   \n",
      "4                                                0   \n",
      "\n",
      "   Most Loved Competitor network in Month 2_Uxaa  \\\n",
      "0                                              0   \n",
      "1                                              0   \n",
      "2                                              0   \n",
      "3                                              0   \n",
      "4                                              0   \n",
      "\n",
      "   Most Loved Competitor network in Month 2_Weematel  \\\n",
      "0                                                  0   \n",
      "1                                                  0   \n",
      "2                                                  0   \n",
      "3                                                  0   \n",
      "4                                                  0   \n",
      "\n",
      "   Most Loved Competitor network in Month 2_Zintel  \n",
      "0                                                0  \n",
      "1                                                0  \n",
      "2                                                0  \n",
      "3                                                0  \n",
      "4                                                0  \n",
      "\n",
      "[5 rows x 25 columns]\n",
      "<class 'pandas.core.frame.DataFrame'>\n",
      "RangeIndex: 1110 entries, 0 to 1109\n",
      "Data columns (total 25 columns):\n",
      " #   Column                                             Non-Null Count  Dtype  \n",
      "---  ------                                             --------------  -----  \n",
      " 0   Customer ID                                        1110 non-null   object \n",
      " 1   network_age                                        1110 non-null   int64  \n",
      " 2   Customer tenure in month                           1110 non-null   float64\n",
      " 3   Total Spend in Months 1 and 2                      1110 non-null   float64\n",
      " 4   Total SMS Spend                                    1110 non-null   float64\n",
      " 5   Total Data Spend                                   1110 non-null   float64\n",
      " 6   Total Data Consumption                             1110 non-null   float64\n",
      " 7   Total Unique Calls                                 1110 non-null   int64  \n",
      " 8   Total Onnet spend                                  1110 non-null   int64  \n",
      " 9   Total Offnet spend                                 1110 non-null   int64  \n",
      " 10  Total Call centre complaint calls                  1110 non-null   int64  \n",
      " 11  Churn Status                                       1110 non-null   int64  \n",
      " 12  Most Loved Competitor network in Month 1_0         1110 non-null   int64  \n",
      " 13  Most Loved Competitor network in Month 1_Mango     1110 non-null   int64  \n",
      " 14  Most Loved Competitor network in Month 1_PQza      1110 non-null   int64  \n",
      " 15  Most Loved Competitor network in Month 1_ToCall    1110 non-null   int64  \n",
      " 16  Most Loved Competitor network in Month 1_Uxaa      1110 non-null   int64  \n",
      " 17  Most Loved Competitor network in Month 1_Weematel  1110 non-null   int64  \n",
      " 18  Most Loved Competitor network in Month 1_Zintel    1110 non-null   int64  \n",
      " 19  Most Loved Competitor network in Month 2_Mango     1110 non-null   int64  \n",
      " 20  Most Loved Competitor network in Month 2_PQza      1110 non-null   int64  \n",
      " 21  Most Loved Competitor network in Month 2_ToCall    1110 non-null   int64  \n",
      " 22  Most Loved Competitor network in Month 2_Uxaa      1110 non-null   int64  \n",
      " 23  Most Loved Competitor network in Month 2_Weematel  1110 non-null   int64  \n",
      " 24  Most Loved Competitor network in Month 2_Zintel    1110 non-null   int64  \n",
      "dtypes: float64(5), int64(19), object(1)\n",
      "memory usage: 216.9+ KB\n",
      "None\n"
     ]
    }
   ],
   "source": [
    "import pandas as pd\n",
    "\n",
    "# Cargar el conjunto de entrenamiento\n",
    "train_data = pd.read_csv('data/fuga_clientes_empresa_telefonica_construccion.csv')\n",
    "\n",
    "# Visualizar los primeros registros y entender la estructura de los datos\n",
    "print(train_data.head())\n",
    "print(train_data.info())\n"
   ]
  },
  {
   "cell_type": "code",
   "execution_count": 9,
   "metadata": {},
   "outputs": [],
   "source": [
    "# Manejar valores nulos si los hay\n",
    "train_data = train_data.dropna()  # Eliminar filas con NaN en Churn Status\n",
    "\n",
    "# Separar las características y la variable objetivo\n",
    "X = train_data.drop(['Customer ID', 'Churn Status'], axis=1)  # Características\n",
    "y = train_data['Churn Status']  # Variable objetivo\n"
   ]
  },
  {
   "cell_type": "code",
   "execution_count": 10,
   "metadata": {},
   "outputs": [
    {
     "data": {
      "text/html": [
       "<style>#sk-container-id-1 {color: black;}#sk-container-id-1 pre{padding: 0;}#sk-container-id-1 div.sk-toggleable {background-color: white;}#sk-container-id-1 label.sk-toggleable__label {cursor: pointer;display: block;width: 100%;margin-bottom: 0;padding: 0.3em;box-sizing: border-box;text-align: center;}#sk-container-id-1 label.sk-toggleable__label-arrow:before {content: \"▸\";float: left;margin-right: 0.25em;color: #696969;}#sk-container-id-1 label.sk-toggleable__label-arrow:hover:before {color: black;}#sk-container-id-1 div.sk-estimator:hover label.sk-toggleable__label-arrow:before {color: black;}#sk-container-id-1 div.sk-toggleable__content {max-height: 0;max-width: 0;overflow: hidden;text-align: left;background-color: #f0f8ff;}#sk-container-id-1 div.sk-toggleable__content pre {margin: 0.2em;color: black;border-radius: 0.25em;background-color: #f0f8ff;}#sk-container-id-1 input.sk-toggleable__control:checked~div.sk-toggleable__content {max-height: 200px;max-width: 100%;overflow: auto;}#sk-container-id-1 input.sk-toggleable__control:checked~label.sk-toggleable__label-arrow:before {content: \"▾\";}#sk-container-id-1 div.sk-estimator input.sk-toggleable__control:checked~label.sk-toggleable__label {background-color: #d4ebff;}#sk-container-id-1 div.sk-label input.sk-toggleable__control:checked~label.sk-toggleable__label {background-color: #d4ebff;}#sk-container-id-1 input.sk-hidden--visually {border: 0;clip: rect(1px 1px 1px 1px);clip: rect(1px, 1px, 1px, 1px);height: 1px;margin: -1px;overflow: hidden;padding: 0;position: absolute;width: 1px;}#sk-container-id-1 div.sk-estimator {font-family: monospace;background-color: #f0f8ff;border: 1px dotted black;border-radius: 0.25em;box-sizing: border-box;margin-bottom: 0.5em;}#sk-container-id-1 div.sk-estimator:hover {background-color: #d4ebff;}#sk-container-id-1 div.sk-parallel-item::after {content: \"\";width: 100%;border-bottom: 1px solid gray;flex-grow: 1;}#sk-container-id-1 div.sk-label:hover label.sk-toggleable__label {background-color: #d4ebff;}#sk-container-id-1 div.sk-serial::before {content: \"\";position: absolute;border-left: 1px solid gray;box-sizing: border-box;top: 0;bottom: 0;left: 50%;z-index: 0;}#sk-container-id-1 div.sk-serial {display: flex;flex-direction: column;align-items: center;background-color: white;padding-right: 0.2em;padding-left: 0.2em;position: relative;}#sk-container-id-1 div.sk-item {position: relative;z-index: 1;}#sk-container-id-1 div.sk-parallel {display: flex;align-items: stretch;justify-content: center;background-color: white;position: relative;}#sk-container-id-1 div.sk-item::before, #sk-container-id-1 div.sk-parallel-item::before {content: \"\";position: absolute;border-left: 1px solid gray;box-sizing: border-box;top: 0;bottom: 0;left: 50%;z-index: -1;}#sk-container-id-1 div.sk-parallel-item {display: flex;flex-direction: column;z-index: 1;position: relative;background-color: white;}#sk-container-id-1 div.sk-parallel-item:first-child::after {align-self: flex-end;width: 50%;}#sk-container-id-1 div.sk-parallel-item:last-child::after {align-self: flex-start;width: 50%;}#sk-container-id-1 div.sk-parallel-item:only-child::after {width: 0;}#sk-container-id-1 div.sk-dashed-wrapped {border: 1px dashed gray;margin: 0 0.4em 0.5em 0.4em;box-sizing: border-box;padding-bottom: 0.4em;background-color: white;}#sk-container-id-1 div.sk-label label {font-family: monospace;font-weight: bold;display: inline-block;line-height: 1.2em;}#sk-container-id-1 div.sk-label-container {text-align: center;}#sk-container-id-1 div.sk-container {/* jupyter's `normalize.less` sets `[hidden] { display: none; }` but bootstrap.min.css set `[hidden] { display: none !important; }` so we also need the `!important` here to be able to override the default hidden behavior on the sphinx rendered scikit-learn.org. See: https://github.com/scikit-learn/scikit-learn/issues/21755 */display: inline-block !important;position: relative;}#sk-container-id-1 div.sk-text-repr-fallback {display: none;}</style><div id=\"sk-container-id-1\" class=\"sk-top-container\"><div class=\"sk-text-repr-fallback\"><pre>Pipeline(steps=[(&#x27;standardscaler&#x27;, StandardScaler()),\n",
       "                (&#x27;randomforestclassifier&#x27;,\n",
       "                 RandomForestClassifier(random_state=42))])</pre><b>In a Jupyter environment, please rerun this cell to show the HTML representation or trust the notebook. <br />On GitHub, the HTML representation is unable to render, please try loading this page with nbviewer.org.</b></div><div class=\"sk-container\" hidden><div class=\"sk-item sk-dashed-wrapped\"><div class=\"sk-label-container\"><div class=\"sk-label sk-toggleable\"><input class=\"sk-toggleable__control sk-hidden--visually\" id=\"sk-estimator-id-1\" type=\"checkbox\" ><label for=\"sk-estimator-id-1\" class=\"sk-toggleable__label sk-toggleable__label-arrow\">Pipeline</label><div class=\"sk-toggleable__content\"><pre>Pipeline(steps=[(&#x27;standardscaler&#x27;, StandardScaler()),\n",
       "                (&#x27;randomforestclassifier&#x27;,\n",
       "                 RandomForestClassifier(random_state=42))])</pre></div></div></div><div class=\"sk-serial\"><div class=\"sk-item\"><div class=\"sk-estimator sk-toggleable\"><input class=\"sk-toggleable__control sk-hidden--visually\" id=\"sk-estimator-id-2\" type=\"checkbox\" ><label for=\"sk-estimator-id-2\" class=\"sk-toggleable__label sk-toggleable__label-arrow\">StandardScaler</label><div class=\"sk-toggleable__content\"><pre>StandardScaler()</pre></div></div></div><div class=\"sk-item\"><div class=\"sk-estimator sk-toggleable\"><input class=\"sk-toggleable__control sk-hidden--visually\" id=\"sk-estimator-id-3\" type=\"checkbox\" ><label for=\"sk-estimator-id-3\" class=\"sk-toggleable__label sk-toggleable__label-arrow\">RandomForestClassifier</label><div class=\"sk-toggleable__content\"><pre>RandomForestClassifier(random_state=42)</pre></div></div></div></div></div></div></div>"
      ],
      "text/plain": [
       "Pipeline(steps=[('standardscaler', StandardScaler()),\n",
       "                ('randomforestclassifier',\n",
       "                 RandomForestClassifier(random_state=42))])"
      ]
     },
     "execution_count": 10,
     "metadata": {},
     "output_type": "execute_result"
    }
   ],
   "source": [
    "from sklearn.model_selection import train_test_split\n",
    "from sklearn.ensemble import RandomForestClassifier\n",
    "from sklearn.preprocessing import StandardScaler\n",
    "from sklearn.pipeline import make_pipeline\n",
    "\n",
    "# Dividir los datos en conjunto de entrenamiento y prueba\n",
    "X_train, X_test, y_train, y_test = train_test_split(X, y, test_size=0.2, random_state=42)\n",
    "\n",
    "# Crear un pipeline con un clasificador (Random Forest por ejemplo)\n",
    "model = make_pipeline(StandardScaler(), RandomForestClassifier(random_state=42))\n",
    "\n",
    "# Entrenar el modelo\n",
    "model.fit(X_train, y_train)\n"
   ]
  },
  {
   "cell_type": "code",
   "execution_count": 11,
   "metadata": {},
   "outputs": [],
   "source": [
    "# Separar las características y la variable objetivo\n",
    "X_train = train_data.drop(['Customer ID', 'Churn Status'], axis=1)  # Características de entrenamiento\n",
    "y_train = train_data['Churn Status']  # Variable objetivo de entrenamiento\n",
    "\n",
    "# Cargar la base de datos de explotación\n",
    "exploit_data = pd.read_csv('data/fuga_clientes_empresa_telefonica_explotacion.csv')\n",
    "\n",
    "# Asegurarse de que las columnas en los datos de explotación coincidan con las del conjunto de entrenamiento\n",
    "exploit_X = exploit_data.drop(['Customer ID', 'Churn Status'], axis=1)  # Características de explotación\n",
    "\n",
    "# Entrenar el modelo con las características del conjunto de entrenamiento\n",
    "model.fit(X_train, y_train)\n",
    "\n",
    "# Realizar predicciones en la base de datos de explotación\n",
    "exploit_data['Churn Probability'] = model.predict_proba(exploit_X)[:, 1]  # Predecir probabilidades de churn\n",
    "\n",
    "# Seleccionar los 100 clientes con mayor probabilidad de churn\n",
    "top_100_customers = exploit_data.nlargest(100, 'Churn Probability')['Customer ID']\n",
    "\n",
    "# Guardar los IDs de clientes seleccionados en un archivo csv\n",
    "top_100_customers.to_csv('top_100_churn_customers.csv', index=False)\n",
    "\n"
   ]
  }
 ],
 "metadata": {
  "kernelspec": {
   "display_name": "Python 3",
   "language": "python",
   "name": "python3"
  },
  "language_info": {
   "codemirror_mode": {
    "name": "ipython",
    "version": 3
   },
   "file_extension": ".py",
   "mimetype": "text/x-python",
   "name": "python",
   "nbconvert_exporter": "python",
   "pygments_lexer": "ipython3",
   "version": "3.11.6"
  }
 },
 "nbformat": 4,
 "nbformat_minor": 2
}
